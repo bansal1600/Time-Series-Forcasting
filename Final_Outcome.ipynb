{
 "cells": [
  {
   "cell_type": "markdown",
   "id": "5a5672cd",
   "metadata": {},
   "source": [
    "# Importing Library"
   ]
  },
  {
   "cell_type": "code",
   "execution_count": 2,
   "id": "e795340b",
   "metadata": {},
   "outputs": [],
   "source": [
    "import warnings\n",
    "warnings.filterwarnings(\"ignore\")\n",
    "import numpy as np\n",
    "import pandas as pd\n",
    "import matplotlib.pyplot as plt\n",
    "\n",
    "\n",
    "pd.set_option('display.float_format', str)\n"
   ]
  },
  {
   "cell_type": "markdown",
   "id": "682e146d",
   "metadata": {},
   "source": [
    "# Loading DataSet"
   ]
  },
  {
   "cell_type": "code",
   "execution_count": 3,
   "id": "d5de64ea",
   "metadata": {},
   "outputs": [],
   "source": [
    "customer = pd.read_csv('customer.csv')\n",
    "products = pd.read_csv(\"products.csv\")\n",
    "sales = pd.read_csv(\"sales.csv\")"
   ]
  },
  {
   "cell_type": "markdown",
   "id": "d888c0f3",
   "metadata": {},
   "source": [
    "# Exploratory Data Analysis for three Daataset\n",
    "1. Data analysis for each data set individualy \n",
    "2. Data analysis for all three dataset togther\n",
    "3. WE have month column so analyzing time series analysis "
   ]
  },
  {
   "cell_type": "markdown",
   "id": "79cecc7b",
   "metadata": {},
   "source": [
    "## Customers"
   ]
  },
  {
   "cell_type": "code",
   "execution_count": 4,
   "id": "578e5134",
   "metadata": {},
   "outputs": [
    {
     "data": {
      "text/html": [
       "<div>\n",
       "<style scoped>\n",
       "    .dataframe tbody tr th:only-of-type {\n",
       "        vertical-align: middle;\n",
       "    }\n",
       "\n",
       "    .dataframe tbody tr th {\n",
       "        vertical-align: top;\n",
       "    }\n",
       "\n",
       "    .dataframe thead th {\n",
       "        text-align: right;\n",
       "    }\n",
       "</style>\n",
       "<table border=\"1\" class=\"dataframe\">\n",
       "  <thead>\n",
       "    <tr style=\"text-align: right;\">\n",
       "      <th></th>\n",
       "      <th>customer_id</th>\n",
       "      <th>size</th>\n",
       "      <th>type</th>\n",
       "    </tr>\n",
       "  </thead>\n",
       "  <tbody>\n",
       "    <tr>\n",
       "      <th>0</th>\n",
       "      <td>1210469940</td>\n",
       "      <td>MICRO</td>\n",
       "      <td>HOME SALES</td>\n",
       "    </tr>\n",
       "    <tr>\n",
       "      <th>1</th>\n",
       "      <td>1277939294</td>\n",
       "      <td>NaN</td>\n",
       "      <td>CORNER SHOP</td>\n",
       "    </tr>\n",
       "    <tr>\n",
       "      <th>2</th>\n",
       "      <td>1006989421</td>\n",
       "      <td>MEDIUM</td>\n",
       "      <td>GROCERIES</td>\n",
       "    </tr>\n",
       "    <tr>\n",
       "      <th>3</th>\n",
       "      <td>1618314377</td>\n",
       "      <td>NaN</td>\n",
       "      <td>HOME SALES</td>\n",
       "    </tr>\n",
       "    <tr>\n",
       "      <th>4</th>\n",
       "      <td>707369850</td>\n",
       "      <td>NaN</td>\n",
       "      <td>HOME SALES</td>\n",
       "    </tr>\n",
       "  </tbody>\n",
       "</table>\n",
       "</div>"
      ],
      "text/plain": [
       "   customer_id    size         type\n",
       "0   1210469940   MICRO   HOME SALES\n",
       "1   1277939294     NaN  CORNER SHOP\n",
       "2   1006989421  MEDIUM    GROCERIES\n",
       "3   1618314377     NaN   HOME SALES\n",
       "4    707369850     NaN   HOME SALES"
      ]
     },
     "execution_count": 4,
     "metadata": {},
     "output_type": "execute_result"
    }
   ],
   "source": [
    "customer.head()"
   ]
  },
  {
   "cell_type": "code",
   "execution_count": 5,
   "id": "46e68b3f",
   "metadata": {},
   "outputs": [
    {
     "data": {
      "text/plain": [
       "customer_id      0\n",
       "size           355\n",
       "type             0\n",
       "dtype: int64"
      ]
     },
     "execution_count": 5,
     "metadata": {},
     "output_type": "execute_result"
    }
   ],
   "source": [
    "customer.isna().sum()"
   ]
  },
  {
   "cell_type": "code",
   "execution_count": 6,
   "id": "9ebaaa9e",
   "metadata": {},
   "outputs": [
    {
     "data": {
      "text/plain": [
       "(1422, 3)"
      ]
     },
     "execution_count": 6,
     "metadata": {},
     "output_type": "execute_result"
    }
   ],
   "source": [
    "customer.shape"
   ]
  },
  {
   "cell_type": "code",
   "execution_count": 7,
   "id": "7e165e4d",
   "metadata": {},
   "outputs": [
    {
     "data": {
      "text/plain": [
       "1422"
      ]
     },
     "execution_count": 7,
     "metadata": {},
     "output_type": "execute_result"
    }
   ],
   "source": [
    "customer.customer_id.nunique()"
   ]
  },
  {
   "cell_type": "code",
   "execution_count": 8,
   "id": "0474587a",
   "metadata": {},
   "outputs": [
    {
     "data": {
      "text/plain": [
       "HOME SALES                   167\n",
       "CORNER SHOP                   69\n",
       "GROCERIES                     48\n",
       "WINE AND SPIRIT               22\n",
       "BAR                           16\n",
       "FAMILY-RUN SUPERMAKRET        11\n",
       "FRESH VEGTABLE MARKET         10\n",
       "PHARMACY                       6\n",
       "BUTCHERY                       3\n",
       "FAMILY-OWNED RESTAURANT        1\n",
       "SPECIALIZED FOOD SERVICES      1\n",
       "CONVENIENCE STORE              1\n",
       "Name: type, dtype: int64"
      ]
     },
     "execution_count": 8,
     "metadata": {},
     "output_type": "execute_result"
    }
   ],
   "source": [
    "customer[customer['size'].isna()].type.value_counts()"
   ]
  },
  {
   "cell_type": "code",
   "execution_count": 9,
   "id": "7e909934",
   "metadata": {},
   "outputs": [
    {
     "data": {
      "text/plain": [
       "customer_id     int64\n",
       "size           object\n",
       "type           object\n",
       "dtype: object"
      ]
     },
     "execution_count": 9,
     "metadata": {},
     "output_type": "execute_result"
    }
   ],
   "source": [
    "customer.dtypes"
   ]
  },
  {
   "cell_type": "code",
   "execution_count": 10,
   "id": "871b6ea6",
   "metadata": {},
   "outputs": [
    {
     "data": {
      "text/html": [
       "<div>\n",
       "<style scoped>\n",
       "    .dataframe tbody tr th:only-of-type {\n",
       "        vertical-align: middle;\n",
       "    }\n",
       "\n",
       "    .dataframe tbody tr th {\n",
       "        vertical-align: top;\n",
       "    }\n",
       "\n",
       "    .dataframe thead th {\n",
       "        text-align: right;\n",
       "    }\n",
       "</style>\n",
       "<table border=\"1\" class=\"dataframe\">\n",
       "  <thead>\n",
       "    <tr style=\"text-align: right;\">\n",
       "      <th></th>\n",
       "      <th></th>\n",
       "      <th>customer_id</th>\n",
       "    </tr>\n",
       "    <tr>\n",
       "      <th>size</th>\n",
       "      <th>type</th>\n",
       "      <th></th>\n",
       "    </tr>\n",
       "  </thead>\n",
       "  <tbody>\n",
       "    <tr>\n",
       "      <th rowspan=\"6\" valign=\"top\">EXTRA LARGE</th>\n",
       "      <th>BAR</th>\n",
       "      <td>1</td>\n",
       "    </tr>\n",
       "    <tr>\n",
       "      <th>FAMILY-RUN SUPERMAKRET</th>\n",
       "      <td>6</td>\n",
       "    </tr>\n",
       "    <tr>\n",
       "      <th>FRESH VEGTABLE MARKET</th>\n",
       "      <td>1</td>\n",
       "    </tr>\n",
       "    <tr>\n",
       "      <th>GROCERIES</th>\n",
       "      <td>14</td>\n",
       "    </tr>\n",
       "    <tr>\n",
       "      <th>WHOLESELLER</th>\n",
       "      <td>6</td>\n",
       "    </tr>\n",
       "    <tr>\n",
       "      <th>WINE AND SPIRIT</th>\n",
       "      <td>5</td>\n",
       "    </tr>\n",
       "    <tr>\n",
       "      <th rowspan=\"7\" valign=\"top\">LARGE</th>\n",
       "      <th>CORNER SHOP</th>\n",
       "      <td>7</td>\n",
       "    </tr>\n",
       "    <tr>\n",
       "      <th>FAMILY-RUN SUPERMAKRET</th>\n",
       "      <td>6</td>\n",
       "    </tr>\n",
       "    <tr>\n",
       "      <th>FRESH VEGTABLE MARKET</th>\n",
       "      <td>1</td>\n",
       "    </tr>\n",
       "    <tr>\n",
       "      <th>GROCERIES</th>\n",
       "      <td>35</td>\n",
       "    </tr>\n",
       "    <tr>\n",
       "      <th>SPECIALIZED FOOD SERVICES</th>\n",
       "      <td>1</td>\n",
       "    </tr>\n",
       "    <tr>\n",
       "      <th>WHOLESELLER</th>\n",
       "      <td>7</td>\n",
       "    </tr>\n",
       "    <tr>\n",
       "      <th>WINE AND SPIRIT</th>\n",
       "      <td>6</td>\n",
       "    </tr>\n",
       "    <tr>\n",
       "      <th rowspan=\"12\" valign=\"top\">MEDIUM</th>\n",
       "      <th>BAR</th>\n",
       "      <td>17</td>\n",
       "    </tr>\n",
       "    <tr>\n",
       "      <th>BUTCHERY</th>\n",
       "      <td>1</td>\n",
       "    </tr>\n",
       "    <tr>\n",
       "      <th>CORNER SHOP</th>\n",
       "      <td>102</td>\n",
       "    </tr>\n",
       "    <tr>\n",
       "      <th>FAMILY-OWNED RESTAURANT</th>\n",
       "      <td>2</td>\n",
       "    </tr>\n",
       "    <tr>\n",
       "      <th>FAMILY-RUN SUPERMAKRET</th>\n",
       "      <td>10</td>\n",
       "    </tr>\n",
       "    <tr>\n",
       "      <th>FRESH VEGTABLE MARKET</th>\n",
       "      <td>23</td>\n",
       "    </tr>\n",
       "    <tr>\n",
       "      <th>GROCERIES</th>\n",
       "      <td>165</td>\n",
       "    </tr>\n",
       "    <tr>\n",
       "      <th>HOME SALES</th>\n",
       "      <td>54</td>\n",
       "    </tr>\n",
       "    <tr>\n",
       "      <th>PHARMACY</th>\n",
       "      <td>4</td>\n",
       "    </tr>\n",
       "    <tr>\n",
       "      <th>SPECIALIZED FOOD SERVICES</th>\n",
       "      <td>3</td>\n",
       "    </tr>\n",
       "    <tr>\n",
       "      <th>WHOLESELLER</th>\n",
       "      <td>9</td>\n",
       "    </tr>\n",
       "    <tr>\n",
       "      <th>WINE AND SPIRIT</th>\n",
       "      <td>13</td>\n",
       "    </tr>\n",
       "    <tr>\n",
       "      <th rowspan=\"11\" valign=\"top\">MICRO</th>\n",
       "      <th>BAR</th>\n",
       "      <td>11</td>\n",
       "    </tr>\n",
       "    <tr>\n",
       "      <th>BUTCHERY</th>\n",
       "      <td>6</td>\n",
       "    </tr>\n",
       "    <tr>\n",
       "      <th>CORNER SHOP</th>\n",
       "      <td>14</td>\n",
       "    </tr>\n",
       "    <tr>\n",
       "      <th>FAMILY-OWNED RESTAURANT</th>\n",
       "      <td>2</td>\n",
       "    </tr>\n",
       "    <tr>\n",
       "      <th>FAMILY-RUN SUPERMAKRET</th>\n",
       "      <td>2</td>\n",
       "    </tr>\n",
       "    <tr>\n",
       "      <th>FRESH VEGTABLE MARKET</th>\n",
       "      <td>3</td>\n",
       "    </tr>\n",
       "    <tr>\n",
       "      <th>GROCERIES</th>\n",
       "      <td>16</td>\n",
       "    </tr>\n",
       "    <tr>\n",
       "      <th>HOME SALES</th>\n",
       "      <td>124</td>\n",
       "    </tr>\n",
       "    <tr>\n",
       "      <th>PHARMACY</th>\n",
       "      <td>10</td>\n",
       "    </tr>\n",
       "    <tr>\n",
       "      <th>WHOLESELLER</th>\n",
       "      <td>1</td>\n",
       "    </tr>\n",
       "    <tr>\n",
       "      <th>WINE AND SPIRIT</th>\n",
       "      <td>2</td>\n",
       "    </tr>\n",
       "    <tr>\n",
       "      <th rowspan=\"11\" valign=\"top\">SMALL</th>\n",
       "      <th>BAR</th>\n",
       "      <td>40</td>\n",
       "    </tr>\n",
       "    <tr>\n",
       "      <th>BUTCHERY</th>\n",
       "      <td>2</td>\n",
       "    </tr>\n",
       "    <tr>\n",
       "      <th>CORNER SHOP</th>\n",
       "      <td>67</td>\n",
       "    </tr>\n",
       "    <tr>\n",
       "      <th>FAMILY-RUN SUPERMAKRET</th>\n",
       "      <td>1</td>\n",
       "    </tr>\n",
       "    <tr>\n",
       "      <th>FRESH VEGTABLE MARKET</th>\n",
       "      <td>10</td>\n",
       "    </tr>\n",
       "    <tr>\n",
       "      <th>GROCERIES</th>\n",
       "      <td>52</td>\n",
       "    </tr>\n",
       "    <tr>\n",
       "      <th>HOME SALES</th>\n",
       "      <td>183</td>\n",
       "    </tr>\n",
       "    <tr>\n",
       "      <th>PHARMACY</th>\n",
       "      <td>5</td>\n",
       "    </tr>\n",
       "    <tr>\n",
       "      <th>SPECIALIZED FOOD SERVICES</th>\n",
       "      <td>4</td>\n",
       "    </tr>\n",
       "    <tr>\n",
       "      <th>WHOLESELLER</th>\n",
       "      <td>1</td>\n",
       "    </tr>\n",
       "    <tr>\n",
       "      <th>WINE AND SPIRIT</th>\n",
       "      <td>12</td>\n",
       "    </tr>\n",
       "  </tbody>\n",
       "</table>\n",
       "</div>"
      ],
      "text/plain": [
       "                                       customer_id\n",
       "size        type                                  \n",
       "EXTRA LARGE BAR                                  1\n",
       "            FAMILY-RUN SUPERMAKRET               6\n",
       "            FRESH VEGTABLE MARKET                1\n",
       "            GROCERIES                           14\n",
       "            WHOLESELLER                          6\n",
       "            WINE AND SPIRIT                      5\n",
       "LARGE       CORNER SHOP                          7\n",
       "            FAMILY-RUN SUPERMAKRET               6\n",
       "            FRESH VEGTABLE MARKET                1\n",
       "            GROCERIES                           35\n",
       "            SPECIALIZED FOOD SERVICES            1\n",
       "            WHOLESELLER                          7\n",
       "            WINE AND SPIRIT                      6\n",
       "MEDIUM      BAR                                 17\n",
       "            BUTCHERY                             1\n",
       "            CORNER SHOP                        102\n",
       "            FAMILY-OWNED RESTAURANT              2\n",
       "            FAMILY-RUN SUPERMAKRET              10\n",
       "            FRESH VEGTABLE MARKET               23\n",
       "            GROCERIES                          165\n",
       "            HOME SALES                          54\n",
       "            PHARMACY                             4\n",
       "            SPECIALIZED FOOD SERVICES            3\n",
       "            WHOLESELLER                          9\n",
       "            WINE AND SPIRIT                     13\n",
       "MICRO       BAR                                 11\n",
       "            BUTCHERY                             6\n",
       "            CORNER SHOP                         14\n",
       "            FAMILY-OWNED RESTAURANT              2\n",
       "            FAMILY-RUN SUPERMAKRET               2\n",
       "            FRESH VEGTABLE MARKET                3\n",
       "            GROCERIES                           16\n",
       "            HOME SALES                         124\n",
       "            PHARMACY                            10\n",
       "            WHOLESELLER                          1\n",
       "            WINE AND SPIRIT                      2\n",
       "SMALL       BAR                                 40\n",
       "            BUTCHERY                             2\n",
       "            CORNER SHOP                         67\n",
       "            FAMILY-RUN SUPERMAKRET               1\n",
       "            FRESH VEGTABLE MARKET               10\n",
       "            GROCERIES                           52\n",
       "            HOME SALES                         183\n",
       "            PHARMACY                             5\n",
       "            SPECIALIZED FOOD SERVICES            4\n",
       "            WHOLESELLER                          1\n",
       "            WINE AND SPIRIT                     12"
      ]
     },
     "execution_count": 10,
     "metadata": {},
     "output_type": "execute_result"
    }
   ],
   "source": [
    "# Type is not speific to and size \n",
    "customer.groupby(by=['size', 'type']).count()"
   ]
  },
  {
   "cell_type": "markdown",
   "id": "817a11c5",
   "metadata": {},
   "source": [
    "## Product"
   ]
  },
  {
   "cell_type": "code",
   "execution_count": 11,
   "id": "46d2f4d6",
   "metadata": {},
   "outputs": [
    {
     "data": {
      "text/html": [
       "<div>\n",
       "<style scoped>\n",
       "    .dataframe tbody tr th:only-of-type {\n",
       "        vertical-align: middle;\n",
       "    }\n",
       "\n",
       "    .dataframe tbody tr th {\n",
       "        vertical-align: top;\n",
       "    }\n",
       "\n",
       "    .dataframe thead th {\n",
       "        text-align: right;\n",
       "    }\n",
       "</style>\n",
       "<table border=\"1\" class=\"dataframe\">\n",
       "  <thead>\n",
       "    <tr style=\"text-align: right;\">\n",
       "      <th></th>\n",
       "      <th>material_id</th>\n",
       "      <th>category</th>\n",
       "    </tr>\n",
       "  </thead>\n",
       "  <tbody>\n",
       "    <tr>\n",
       "      <th>0</th>\n",
       "      <td>3008</td>\n",
       "      <td>ProductA</td>\n",
       "    </tr>\n",
       "    <tr>\n",
       "      <th>1</th>\n",
       "      <td>3041</td>\n",
       "      <td>ProductA</td>\n",
       "    </tr>\n",
       "    <tr>\n",
       "      <th>2</th>\n",
       "      <td>4548</td>\n",
       "      <td>ProductA</td>\n",
       "    </tr>\n",
       "    <tr>\n",
       "      <th>3</th>\n",
       "      <td>19894</td>\n",
       "      <td>ProductA</td>\n",
       "    </tr>\n",
       "    <tr>\n",
       "      <th>4</th>\n",
       "      <td>2549</td>\n",
       "      <td>ProductB</td>\n",
       "    </tr>\n",
       "  </tbody>\n",
       "</table>\n",
       "</div>"
      ],
      "text/plain": [
       "   material_id  category\n",
       "0         3008  ProductA\n",
       "1         3041  ProductA\n",
       "2         4548  ProductA\n",
       "3        19894  ProductA\n",
       "4         2549  ProductB"
      ]
     },
     "execution_count": 11,
     "metadata": {},
     "output_type": "execute_result"
    }
   ],
   "source": [
    "products.head()"
   ]
  },
  {
   "cell_type": "code",
   "execution_count": 12,
   "id": "3fcf4962",
   "metadata": {},
   "outputs": [
    {
     "data": {
      "text/plain": [
       "material_id    0\n",
       "category       0\n",
       "dtype: int64"
      ]
     },
     "execution_count": 12,
     "metadata": {},
     "output_type": "execute_result"
    }
   ],
   "source": [
    "products.isna().sum()"
   ]
  },
  {
   "cell_type": "code",
   "execution_count": 13,
   "id": "0afa74fc",
   "metadata": {},
   "outputs": [
    {
     "data": {
      "text/plain": [
       "(array(['ProductA', 'ProductB', 'ProductC', 'ProductD', 'ProductE'],\n",
       "       dtype=object),\n",
       " (67, 2))"
      ]
     },
     "execution_count": 13,
     "metadata": {},
     "output_type": "execute_result"
    }
   ],
   "source": [
    "products.category.unique(), products.shape"
   ]
  },
  {
   "cell_type": "code",
   "execution_count": 14,
   "id": "4092b55f",
   "metadata": {},
   "outputs": [
    {
     "data": {
      "text/html": [
       "<div>\n",
       "<style scoped>\n",
       "    .dataframe tbody tr th:only-of-type {\n",
       "        vertical-align: middle;\n",
       "    }\n",
       "\n",
       "    .dataframe tbody tr th {\n",
       "        vertical-align: top;\n",
       "    }\n",
       "\n",
       "    .dataframe thead th {\n",
       "        text-align: right;\n",
       "    }\n",
       "</style>\n",
       "<table border=\"1\" class=\"dataframe\">\n",
       "  <thead>\n",
       "    <tr style=\"text-align: right;\">\n",
       "      <th></th>\n",
       "      <th>material_id</th>\n",
       "    </tr>\n",
       "    <tr>\n",
       "      <th>category</th>\n",
       "      <th></th>\n",
       "    </tr>\n",
       "  </thead>\n",
       "  <tbody>\n",
       "    <tr>\n",
       "      <th>ProductA</th>\n",
       "      <td>4</td>\n",
       "    </tr>\n",
       "    <tr>\n",
       "      <th>ProductB</th>\n",
       "      <td>37</td>\n",
       "    </tr>\n",
       "    <tr>\n",
       "      <th>ProductC</th>\n",
       "      <td>12</td>\n",
       "    </tr>\n",
       "    <tr>\n",
       "      <th>ProductD</th>\n",
       "      <td>8</td>\n",
       "    </tr>\n",
       "    <tr>\n",
       "      <th>ProductE</th>\n",
       "      <td>6</td>\n",
       "    </tr>\n",
       "  </tbody>\n",
       "</table>\n",
       "</div>"
      ],
      "text/plain": [
       "          material_id\n",
       "category             \n",
       "ProductA            4\n",
       "ProductB           37\n",
       "ProductC           12\n",
       "ProductD            8\n",
       "ProductE            6"
      ]
     },
     "execution_count": 14,
     "metadata": {},
     "output_type": "execute_result"
    }
   ],
   "source": [
    "products.groupby(by='category').count()"
   ]
  },
  {
   "cell_type": "markdown",
   "id": "74d5ad92",
   "metadata": {},
   "source": [
    "## Sales"
   ]
  },
  {
   "cell_type": "code",
   "execution_count": 15,
   "id": "000b8ef9",
   "metadata": {},
   "outputs": [
    {
     "data": {
      "text/html": [
       "<div>\n",
       "<style scoped>\n",
       "    .dataframe tbody tr th:only-of-type {\n",
       "        vertical-align: middle;\n",
       "    }\n",
       "\n",
       "    .dataframe tbody tr th {\n",
       "        vertical-align: top;\n",
       "    }\n",
       "\n",
       "    .dataframe thead th {\n",
       "        text-align: right;\n",
       "    }\n",
       "</style>\n",
       "<table border=\"1\" class=\"dataframe\">\n",
       "  <thead>\n",
       "    <tr style=\"text-align: right;\">\n",
       "      <th></th>\n",
       "      <th>customer_id</th>\n",
       "      <th>month</th>\n",
       "      <th>material_id</th>\n",
       "      <th>amount</th>\n",
       "    </tr>\n",
       "  </thead>\n",
       "  <tbody>\n",
       "    <tr>\n",
       "      <th>0</th>\n",
       "      <td>1688321624</td>\n",
       "      <td>202007</td>\n",
       "      <td>2956</td>\n",
       "      <td>19.8125</td>\n",
       "    </tr>\n",
       "    <tr>\n",
       "      <th>1</th>\n",
       "      <td>1440773424</td>\n",
       "      <td>202007</td>\n",
       "      <td>2933</td>\n",
       "      <td>7.9256</td>\n",
       "    </tr>\n",
       "    <tr>\n",
       "      <th>2</th>\n",
       "      <td>1570938024</td>\n",
       "      <td>202007</td>\n",
       "      <td>5114</td>\n",
       "      <td>7.9256</td>\n",
       "    </tr>\n",
       "    <tr>\n",
       "      <th>3</th>\n",
       "      <td>1637860776</td>\n",
       "      <td>202007</td>\n",
       "      <td>4548</td>\n",
       "      <td>175.0093</td>\n",
       "    </tr>\n",
       "    <tr>\n",
       "      <th>4</th>\n",
       "      <td>561448224</td>\n",
       "      <td>202007</td>\n",
       "      <td>4548</td>\n",
       "      <td>196.4868</td>\n",
       "    </tr>\n",
       "  </tbody>\n",
       "</table>\n",
       "</div>"
      ],
      "text/plain": [
       "   customer_id   month  material_id   amount\n",
       "0   1688321624  202007         2956  19.8125\n",
       "1   1440773424  202007         2933   7.9256\n",
       "2   1570938024  202007         5114   7.9256\n",
       "3   1637860776  202007         4548 175.0093\n",
       "4    561448224  202007         4548 196.4868"
      ]
     },
     "execution_count": 15,
     "metadata": {},
     "output_type": "execute_result"
    }
   ],
   "source": [
    "sales.head()"
   ]
  },
  {
   "cell_type": "code",
   "execution_count": 16,
   "id": "0574ca92",
   "metadata": {},
   "outputs": [
    {
     "data": {
      "text/plain": [
       "(251300, 4)"
      ]
     },
     "execution_count": 16,
     "metadata": {},
     "output_type": "execute_result"
    }
   ],
   "source": [
    "sales.shape"
   ]
  },
  {
   "cell_type": "code",
   "execution_count": 17,
   "id": "c6ac4093",
   "metadata": {},
   "outputs": [
    {
     "data": {
      "text/plain": [
       "customer_id    0\n",
       "month          0\n",
       "material_id    0\n",
       "amount         0\n",
       "dtype: int64"
      ]
     },
     "execution_count": 17,
     "metadata": {},
     "output_type": "execute_result"
    }
   ],
   "source": [
    "sales.isna().sum()"
   ]
  },
  {
   "cell_type": "code",
   "execution_count": 18,
   "id": "e4f79f5c",
   "metadata": {},
   "outputs": [
    {
     "data": {
      "text/plain": [
       "202204    12175\n",
       "202203    12104\n",
       "202205    12007\n",
       "202201    11200\n",
       "202202    11160\n",
       "202106    11054\n",
       "202105    11035\n",
       "202112    11013\n",
       "202104    10886\n",
       "202111    10588\n",
       "202107    10507\n",
       "202110    10499\n",
       "202108    10475\n",
       "202103    10419\n",
       "202109    10033\n",
       "202007    10011\n",
       "202206     9996\n",
       "202010     9708\n",
       "202011     9627\n",
       "202101     9570\n",
       "202012     9568\n",
       "202008     9374\n",
       "202102     9165\n",
       "202009     9126\n",
       "Name: month, dtype: int64"
      ]
     },
     "execution_count": 18,
     "metadata": {},
     "output_type": "execute_result"
    }
   ],
   "source": [
    "# 2 years of data from June 2020 to May 2022 \n",
    "# Looks equal distribution for every month \n",
    "sales.month.value_counts()"
   ]
  },
  {
   "cell_type": "markdown",
   "id": "abea8838",
   "metadata": {},
   "source": [
    "## Join all three data set \n",
    "### Sales ***LEFT JOIN*** Products  ***LEFT JOIN*** Customers"
   ]
  },
  {
   "cell_type": "code",
   "execution_count": 19,
   "id": "7454029a",
   "metadata": {},
   "outputs": [],
   "source": [
    "sales_product = pd.merge(sales,customer, how='left')"
   ]
  },
  {
   "cell_type": "code",
   "execution_count": 20,
   "id": "1889c5b4",
   "metadata": {},
   "outputs": [
    {
     "data": {
      "text/plain": [
       "(251300, 6)"
      ]
     },
     "execution_count": 20,
     "metadata": {},
     "output_type": "execute_result"
    }
   ],
   "source": [
    "sales_product.shape"
   ]
  },
  {
   "cell_type": "code",
   "execution_count": 21,
   "id": "8c8ba499",
   "metadata": {},
   "outputs": [
    {
     "data": {
      "text/plain": [
       "((251300, 7),\n",
       " Index(['customer_id', 'month', 'material_id', 'amount', 'size', 'type',\n",
       "        'category'],\n",
       "       dtype='object'))"
      ]
     },
     "execution_count": 21,
     "metadata": {},
     "output_type": "execute_result"
    }
   ],
   "source": [
    "df = pd.merge(sales_product,products, how='left')\n",
    "df.shape, df.columns"
   ]
  },
  {
   "cell_type": "code",
   "execution_count": 22,
   "id": "c38b8e16",
   "metadata": {},
   "outputs": [
    {
     "data": {
      "text/html": [
       "<div>\n",
       "<style scoped>\n",
       "    .dataframe tbody tr th:only-of-type {\n",
       "        vertical-align: middle;\n",
       "    }\n",
       "\n",
       "    .dataframe tbody tr th {\n",
       "        vertical-align: top;\n",
       "    }\n",
       "\n",
       "    .dataframe thead th {\n",
       "        text-align: right;\n",
       "    }\n",
       "</style>\n",
       "<table border=\"1\" class=\"dataframe\">\n",
       "  <thead>\n",
       "    <tr style=\"text-align: right;\">\n",
       "      <th></th>\n",
       "      <th>customer_id</th>\n",
       "      <th>month</th>\n",
       "      <th>material_id</th>\n",
       "      <th>amount</th>\n",
       "      <th>size</th>\n",
       "      <th>type</th>\n",
       "      <th>category</th>\n",
       "    </tr>\n",
       "  </thead>\n",
       "  <tbody>\n",
       "    <tr>\n",
       "      <th>0</th>\n",
       "      <td>1688321624</td>\n",
       "      <td>202007</td>\n",
       "      <td>2956</td>\n",
       "      <td>19.8125</td>\n",
       "      <td>MEDIUM</td>\n",
       "      <td>GROCERIES</td>\n",
       "      <td>ProductC</td>\n",
       "    </tr>\n",
       "    <tr>\n",
       "      <th>1</th>\n",
       "      <td>1440773424</td>\n",
       "      <td>202007</td>\n",
       "      <td>2933</td>\n",
       "      <td>7.9256</td>\n",
       "      <td>MICRO</td>\n",
       "      <td>CORNER SHOP</td>\n",
       "      <td>ProductB</td>\n",
       "    </tr>\n",
       "    <tr>\n",
       "      <th>2</th>\n",
       "      <td>1570938024</td>\n",
       "      <td>202007</td>\n",
       "      <td>5114</td>\n",
       "      <td>7.9256</td>\n",
       "      <td>MICRO</td>\n",
       "      <td>HOME SALES</td>\n",
       "      <td>ProductB</td>\n",
       "    </tr>\n",
       "    <tr>\n",
       "      <th>3</th>\n",
       "      <td>1637860776</td>\n",
       "      <td>202007</td>\n",
       "      <td>4548</td>\n",
       "      <td>175.0093</td>\n",
       "      <td>MEDIUM</td>\n",
       "      <td>CORNER SHOP</td>\n",
       "      <td>ProductA</td>\n",
       "    </tr>\n",
       "    <tr>\n",
       "      <th>4</th>\n",
       "      <td>561448224</td>\n",
       "      <td>202007</td>\n",
       "      <td>4548</td>\n",
       "      <td>196.4868</td>\n",
       "      <td>MEDIUM</td>\n",
       "      <td>CORNER SHOP</td>\n",
       "      <td>ProductA</td>\n",
       "    </tr>\n",
       "  </tbody>\n",
       "</table>\n",
       "</div>"
      ],
      "text/plain": [
       "   customer_id   month  material_id   amount    size         type  category\n",
       "0   1688321624  202007         2956  19.8125  MEDIUM    GROCERIES  ProductC\n",
       "1   1440773424  202007         2933   7.9256   MICRO  CORNER SHOP  ProductB\n",
       "2   1570938024  202007         5114   7.9256   MICRO   HOME SALES  ProductB\n",
       "3   1637860776  202007         4548 175.0093  MEDIUM  CORNER SHOP  ProductA\n",
       "4    561448224  202007         4548 196.4868  MEDIUM  CORNER SHOP  ProductA"
      ]
     },
     "execution_count": 22,
     "metadata": {},
     "output_type": "execute_result"
    }
   ],
   "source": [
    "df.head()"
   ]
  },
  {
   "cell_type": "code",
   "execution_count": 23,
   "id": "dfbfe4a3",
   "metadata": {},
   "outputs": [
    {
     "data": {
      "text/plain": [
       "1409"
      ]
     },
     "execution_count": 23,
     "metadata": {},
     "output_type": "execute_result"
    }
   ],
   "source": [
    "# unique Customers\n",
    "df.customer_id.nunique()"
   ]
  },
  {
   "cell_type": "code",
   "execution_count": 24,
   "id": "eced44f2",
   "metadata": {},
   "outputs": [
    {
     "data": {
      "text/plain": [
       "customer_id        0\n",
       "month              0\n",
       "material_id        0\n",
       "amount             0\n",
       "size           30131\n",
       "type               0\n",
       "category           0\n",
       "dtype: int64"
      ]
     },
     "execution_count": 24,
     "metadata": {},
     "output_type": "execute_result"
    }
   ],
   "source": [
    "df.isna().sum()"
   ]
  },
  {
   "cell_type": "code",
   "execution_count": 25,
   "id": "81da811c",
   "metadata": {},
   "outputs": [
    {
     "data": {
      "text/html": [
       "<div>\n",
       "<style scoped>\n",
       "    .dataframe tbody tr th:only-of-type {\n",
       "        vertical-align: middle;\n",
       "    }\n",
       "\n",
       "    .dataframe tbody tr th {\n",
       "        vertical-align: top;\n",
       "    }\n",
       "\n",
       "    .dataframe thead th {\n",
       "        text-align: right;\n",
       "    }\n",
       "</style>\n",
       "<table border=\"1\" class=\"dataframe\">\n",
       "  <thead>\n",
       "    <tr style=\"text-align: right;\">\n",
       "      <th></th>\n",
       "      <th>amount</th>\n",
       "      <th>category</th>\n",
       "    </tr>\n",
       "    <tr>\n",
       "      <th>category</th>\n",
       "      <th></th>\n",
       "      <th></th>\n",
       "    </tr>\n",
       "  </thead>\n",
       "  <tbody>\n",
       "    <tr>\n",
       "      <th>ProductA</th>\n",
       "      <td>105.68472020385367</td>\n",
       "      <td>57296</td>\n",
       "    </tr>\n",
       "    <tr>\n",
       "      <th>ProductB</th>\n",
       "      <td>13.548164528447046</td>\n",
       "      <td>106584</td>\n",
       "    </tr>\n",
       "    <tr>\n",
       "      <th>ProductC</th>\n",
       "      <td>12.700564244758667</td>\n",
       "      <td>79703</td>\n",
       "    </tr>\n",
       "    <tr>\n",
       "      <th>ProductD</th>\n",
       "      <td>10.050851904761904</td>\n",
       "      <td>3360</td>\n",
       "    </tr>\n",
       "    <tr>\n",
       "      <th>ProductE</th>\n",
       "      <td>3.194840968556346</td>\n",
       "      <td>4357</td>\n",
       "    </tr>\n",
       "  </tbody>\n",
       "</table>\n",
       "</div>"
      ],
      "text/plain": [
       "                     amount  category\n",
       "category                             \n",
       "ProductA 105.68472020385367     57296\n",
       "ProductB 13.548164528447046    106584\n",
       "ProductC 12.700564244758667     79703\n",
       "ProductD 10.050851904761904      3360\n",
       "ProductE  3.194840968556346      4357"
      ]
     },
     "execution_count": 25,
     "metadata": {},
     "output_type": "execute_result"
    }
   ],
   "source": [
    "# I can conclude is in terms of Product cost A>B>C>D>E\n",
    "df.groupby('category').agg({'amount':'mean', 'category':'count'})"
   ]
  },
  {
   "cell_type": "code",
   "execution_count": 26,
   "id": "ec2c6dc3",
   "metadata": {},
   "outputs": [
    {
     "data": {
      "text/html": [
       "<div>\n",
       "<style scoped>\n",
       "    .dataframe tbody tr th:only-of-type {\n",
       "        vertical-align: middle;\n",
       "    }\n",
       "\n",
       "    .dataframe tbody tr th {\n",
       "        vertical-align: top;\n",
       "    }\n",
       "\n",
       "    .dataframe thead th {\n",
       "        text-align: right;\n",
       "    }\n",
       "</style>\n",
       "<table border=\"1\" class=\"dataframe\">\n",
       "  <thead>\n",
       "    <tr style=\"text-align: right;\">\n",
       "      <th></th>\n",
       "      <th></th>\n",
       "      <th>amount</th>\n",
       "      <th>category</th>\n",
       "    </tr>\n",
       "    <tr>\n",
       "      <th>size</th>\n",
       "      <th>category</th>\n",
       "      <th></th>\n",
       "      <th></th>\n",
       "    </tr>\n",
       "  </thead>\n",
       "  <tbody>\n",
       "    <tr>\n",
       "      <th rowspan=\"5\" valign=\"top\">EXTRA LARGE</th>\n",
       "      <th>ProductA</th>\n",
       "      <td>375.0390896226415</td>\n",
       "      <td>2014</td>\n",
       "    </tr>\n",
       "    <tr>\n",
       "      <th>ProductB</th>\n",
       "      <td>34.86433053153792</td>\n",
       "      <td>7055</td>\n",
       "    </tr>\n",
       "    <tr>\n",
       "      <th>ProductC</th>\n",
       "      <td>29.814569025270757</td>\n",
       "      <td>5540</td>\n",
       "    </tr>\n",
       "    <tr>\n",
       "      <th>ProductD</th>\n",
       "      <td>14.427881003584229</td>\n",
       "      <td>279</td>\n",
       "    </tr>\n",
       "    <tr>\n",
       "      <th>ProductE</th>\n",
       "      <td>9.03112780748663</td>\n",
       "      <td>374</td>\n",
       "    </tr>\n",
       "    <tr>\n",
       "      <th rowspan=\"5\" valign=\"top\">LARGE</th>\n",
       "      <th>ProductA</th>\n",
       "      <td>138.37176008032128</td>\n",
       "      <td>3735</td>\n",
       "    </tr>\n",
       "    <tr>\n",
       "      <th>ProductB</th>\n",
       "      <td>17.693508730088887</td>\n",
       "      <td>11363</td>\n",
       "    </tr>\n",
       "    <tr>\n",
       "      <th>ProductC</th>\n",
       "      <td>17.370086620590058</td>\n",
       "      <td>9694</td>\n",
       "    </tr>\n",
       "    <tr>\n",
       "      <th>ProductD</th>\n",
       "      <td>12.607988868940755</td>\n",
       "      <td>557</td>\n",
       "    </tr>\n",
       "    <tr>\n",
       "      <th>ProductE</th>\n",
       "      <td>3.2647531690140847</td>\n",
       "      <td>568</td>\n",
       "    </tr>\n",
       "    <tr>\n",
       "      <th rowspan=\"5\" valign=\"top\">MEDIUM</th>\n",
       "      <th>ProductA</th>\n",
       "      <td>107.59739319122698</td>\n",
       "      <td>22706</td>\n",
       "    </tr>\n",
       "    <tr>\n",
       "      <th>ProductB</th>\n",
       "      <td>12.082401534111293</td>\n",
       "      <td>47389</td>\n",
       "    </tr>\n",
       "    <tr>\n",
       "      <th>ProductC</th>\n",
       "      <td>11.568245161716172</td>\n",
       "      <td>37875</td>\n",
       "    </tr>\n",
       "    <tr>\n",
       "      <th>ProductD</th>\n",
       "      <td>8.303984495021338</td>\n",
       "      <td>1406</td>\n",
       "    </tr>\n",
       "    <tr>\n",
       "      <th>ProductE</th>\n",
       "      <td>2.5538019230769233</td>\n",
       "      <td>1976</td>\n",
       "    </tr>\n",
       "    <tr>\n",
       "      <th rowspan=\"5\" valign=\"top\">MICRO</th>\n",
       "      <th>ProductA</th>\n",
       "      <td>59.50444993181375</td>\n",
       "      <td>5133</td>\n",
       "    </tr>\n",
       "    <tr>\n",
       "      <th>ProductB</th>\n",
       "      <td>9.246158636003173</td>\n",
       "      <td>6305</td>\n",
       "    </tr>\n",
       "    <tr>\n",
       "      <th>ProductC</th>\n",
       "      <td>7.335958019003742</td>\n",
       "      <td>3473</td>\n",
       "    </tr>\n",
       "    <tr>\n",
       "      <th>ProductD</th>\n",
       "      <td>16.359904705882354</td>\n",
       "      <td>255</td>\n",
       "    </tr>\n",
       "    <tr>\n",
       "      <th>ProductE</th>\n",
       "      <td>1.4064520446096653</td>\n",
       "      <td>269</td>\n",
       "    </tr>\n",
       "    <tr>\n",
       "      <th rowspan=\"5\" valign=\"top\">SMALL</th>\n",
       "      <th>ProductA</th>\n",
       "      <td>81.60921076147748</td>\n",
       "      <td>16271</td>\n",
       "    </tr>\n",
       "    <tr>\n",
       "      <th>ProductB</th>\n",
       "      <td>9.952077151872304</td>\n",
       "      <td>21551</td>\n",
       "    </tr>\n",
       "    <tr>\n",
       "      <th>ProductC</th>\n",
       "      <td>8.624512001411931</td>\n",
       "      <td>14165</td>\n",
       "    </tr>\n",
       "    <tr>\n",
       "      <th>ProductD</th>\n",
       "      <td>7.554766324435318</td>\n",
       "      <td>487</td>\n",
       "    </tr>\n",
       "    <tr>\n",
       "      <th>ProductE</th>\n",
       "      <td>2.0585582990397806</td>\n",
       "      <td>729</td>\n",
       "    </tr>\n",
       "  </tbody>\n",
       "</table>\n",
       "</div>"
      ],
      "text/plain": [
       "                                 amount  category\n",
       "size        category                             \n",
       "EXTRA LARGE ProductA  375.0390896226415      2014\n",
       "            ProductB  34.86433053153792      7055\n",
       "            ProductC 29.814569025270757      5540\n",
       "            ProductD 14.427881003584229       279\n",
       "            ProductE   9.03112780748663       374\n",
       "LARGE       ProductA 138.37176008032128      3735\n",
       "            ProductB 17.693508730088887     11363\n",
       "            ProductC 17.370086620590058      9694\n",
       "            ProductD 12.607988868940755       557\n",
       "            ProductE 3.2647531690140847       568\n",
       "MEDIUM      ProductA 107.59739319122698     22706\n",
       "            ProductB 12.082401534111293     47389\n",
       "            ProductC 11.568245161716172     37875\n",
       "            ProductD  8.303984495021338      1406\n",
       "            ProductE 2.5538019230769233      1976\n",
       "MICRO       ProductA  59.50444993181375      5133\n",
       "            ProductB  9.246158636003173      6305\n",
       "            ProductC  7.335958019003742      3473\n",
       "            ProductD 16.359904705882354       255\n",
       "            ProductE 1.4064520446096653       269\n",
       "SMALL       ProductA  81.60921076147748     16271\n",
       "            ProductB  9.952077151872304     21551\n",
       "            ProductC  8.624512001411931     14165\n",
       "            ProductD  7.554766324435318       487\n",
       "            ProductE 2.0585582990397806       729"
      ]
     },
     "execution_count": 26,
     "metadata": {},
     "output_type": "execute_result"
    }
   ],
   "source": [
    "# Same conclusion shows here as mean Product cost A>B>C>D>E \n",
    "df.groupby(['size', 'category']).agg({'amount':'mean', 'category':'count'})"
   ]
  },
  {
   "cell_type": "markdown",
   "id": "c447c570",
   "metadata": {},
   "source": [
    "## Time Series Data Analysis as we have month and year for sale transaction "
   ]
  },
  {
   "cell_type": "markdown",
   "id": "9943a2f4",
   "metadata": {},
   "source": [
    "### Sales Data"
   ]
  },
  {
   "cell_type": "code",
   "execution_count": 27,
   "id": "bc8421ca",
   "metadata": {},
   "outputs": [
    {
     "data": {
      "text/html": [
       "<div>\n",
       "<style scoped>\n",
       "    .dataframe tbody tr th:only-of-type {\n",
       "        vertical-align: middle;\n",
       "    }\n",
       "\n",
       "    .dataframe tbody tr th {\n",
       "        vertical-align: top;\n",
       "    }\n",
       "\n",
       "    .dataframe thead th {\n",
       "        text-align: right;\n",
       "    }\n",
       "</style>\n",
       "<table border=\"1\" class=\"dataframe\">\n",
       "  <thead>\n",
       "    <tr style=\"text-align: right;\">\n",
       "      <th></th>\n",
       "      <th>customer_id</th>\n",
       "      <th>month</th>\n",
       "      <th>material_id</th>\n",
       "      <th>amount</th>\n",
       "    </tr>\n",
       "  </thead>\n",
       "  <tbody>\n",
       "    <tr>\n",
       "      <th>0</th>\n",
       "      <td>1688321624</td>\n",
       "      <td>202007</td>\n",
       "      <td>2956</td>\n",
       "      <td>19.8125</td>\n",
       "    </tr>\n",
       "    <tr>\n",
       "      <th>1</th>\n",
       "      <td>1440773424</td>\n",
       "      <td>202007</td>\n",
       "      <td>2933</td>\n",
       "      <td>7.9256</td>\n",
       "    </tr>\n",
       "    <tr>\n",
       "      <th>2</th>\n",
       "      <td>1570938024</td>\n",
       "      <td>202007</td>\n",
       "      <td>5114</td>\n",
       "      <td>7.9256</td>\n",
       "    </tr>\n",
       "    <tr>\n",
       "      <th>3</th>\n",
       "      <td>1637860776</td>\n",
       "      <td>202007</td>\n",
       "      <td>4548</td>\n",
       "      <td>175.0093</td>\n",
       "    </tr>\n",
       "    <tr>\n",
       "      <th>4</th>\n",
       "      <td>561448224</td>\n",
       "      <td>202007</td>\n",
       "      <td>4548</td>\n",
       "      <td>196.4868</td>\n",
       "    </tr>\n",
       "  </tbody>\n",
       "</table>\n",
       "</div>"
      ],
      "text/plain": [
       "   customer_id   month  material_id   amount\n",
       "0   1688321624  202007         2956  19.8125\n",
       "1   1440773424  202007         2933   7.9256\n",
       "2   1570938024  202007         5114   7.9256\n",
       "3   1637860776  202007         4548 175.0093\n",
       "4    561448224  202007         4548 196.4868"
      ]
     },
     "execution_count": 27,
     "metadata": {},
     "output_type": "execute_result"
    }
   ],
   "source": [
    "sales = pd.read_csv(\"sales.csv\")\n",
    "sales.head()"
   ]
  },
  {
   "cell_type": "code",
   "execution_count": 28,
   "id": "a02467c8",
   "metadata": {},
   "outputs": [
    {
     "data": {
      "text/plain": [
       "customer_id    0\n",
       "month          0\n",
       "material_id    0\n",
       "amount         0\n",
       "dtype: int64"
      ]
     },
     "execution_count": 28,
     "metadata": {},
     "output_type": "execute_result"
    }
   ],
   "source": [
    "# No null values thats good \n",
    "sales.isna().sum()"
   ]
  },
  {
   "cell_type": "code",
   "execution_count": 29,
   "id": "d8434cee",
   "metadata": {},
   "outputs": [],
   "source": [
    "sales['customer_id'] = sales['customer_id'].astype('str')\n",
    "sales['material_id'] = sales['material_id'].astype('str')\n",
    "\n",
    "# Step 2: Convert the 'Date' column to a proper date format\n",
    "sales['month'] = pd.to_datetime(sales['month'], format='%Y%m')"
   ]
  },
  {
   "cell_type": "code",
   "execution_count": 30,
   "id": "00fb9e77",
   "metadata": {
    "scrolled": true
   },
   "outputs": [
    {
     "data": {
      "text/plain": [
       "customer_id            object\n",
       "month          datetime64[ns]\n",
       "material_id            object\n",
       "amount                float64\n",
       "dtype: object"
      ]
     },
     "execution_count": 30,
     "metadata": {},
     "output_type": "execute_result"
    }
   ],
   "source": [
    "## Format Date for analysis\n",
    "sales.dtypes"
   ]
  },
  {
   "cell_type": "code",
   "execution_count": 31,
   "id": "5295a399",
   "metadata": {},
   "outputs": [
    {
     "data": {
      "text/plain": [
       "<AxesSubplot:xlabel='month'>"
      ]
     },
     "execution_count": 31,
     "metadata": {},
     "output_type": "execute_result"
    },
    {
     "data": {
      "image/png": "[encoded data removed]",
      "text/plain": [
       "<Figure size 640x480 with 1 Axes>"
      ]
     },
     "metadata": {},
     "output_type": "display_data"
    }
   ],
   "source": [
    "sales.groupby('month').agg({'amount':'sum'})\n",
    "sales.groupby('month').agg({'amount':'sum'}).plot()"
   ]
  },
  {
   "cell_type": "code",
   "execution_count": 32,
   "id": "86e33409",
   "metadata": {},
   "outputs": [
    {
     "data": {
      "image/png": "[encoded data removed]",
      "text/plain": [
       "<Figure size 1200x800 with 2 Axes>"
      ]
     },
     "metadata": {},
     "output_type": "display_data"
    }
   ],
   "source": [
    "# Autocorrelation (ACF) and Partial Autocorrelation (PACF) Plots \n",
    "#These plots can help identify the presence of autocorrelation in the data.\n",
    "\n",
    "# looks like it is in the order of decresing and it says data is staionary, We can run several test like adf fuller. \n",
    "from statsmodels.graphics.tsaplots import plot_acf, plot_pacf\n",
    "\n",
    "# Plotting the autocorrelation and partial autocorrelation plots\n",
    "fig, ax = plt.subplots(2, 1, figsize=(12, 8))\n",
    "plot_acf(sales['amount'], ax=ax[0])\n",
    "plot_pacf(sales['amount'], ax=ax[1])\n",
    "\n",
    "# Adjust the y-axis limits\n",
    "plt.ylim(-0.25, 0.25)\n",
    "\n",
    "plt.show()"
   ]
  },
  {
   "cell_type": "code",
   "execution_count": 33,
   "id": "75368d72",
   "metadata": {},
   "outputs": [
    {
     "data": {
      "image/png": "[encoded data removed]",
      "text/plain": [
       "<Figure size 1500x800 with 3 Axes>"
      ]
     },
     "metadata": {},
     "output_type": "display_data"
    }
   ],
   "source": [
    "# We can also see that the residual plot shows zero. That is good sign as it able to seperate noise from the dats\n",
    "# looks like there is no seasonality \n",
    "\n",
    "from statsmodels.tsa.seasonal import seasonal_decompose\n",
    "\n",
    "res = seasonal_decompose(sales[['month']], model = \"additive\",period = 30)\n",
    "\n",
    "fig, (ax1,ax2,ax3) = plt.subplots(3,1, figsize=(15,8))\n",
    "res.trend.plot(ax=ax1,ylabel = \"trend\")\n",
    "res.resid.plot(ax=ax2,ylabel = \"seasoanlity\")\n",
    "res.seasonal.plot(ax=ax3,ylabel = \"residual\")\n",
    "plt.show()"
   ]
  },
  {
   "cell_type": "code",
   "execution_count": 35,
   "id": "90101930",
   "metadata": {},
   "outputs": [
    {
     "data": {
      "text/html": [
       "<div>\n",
       "<style scoped>\n",
       "    .dataframe tbody tr th:only-of-type {\n",
       "        vertical-align: middle;\n",
       "    }\n",
       "\n",
       "    .dataframe tbody tr th {\n",
       "        vertical-align: top;\n",
       "    }\n",
       "\n",
       "    .dataframe thead tr th {\n",
       "        text-align: left;\n",
       "    }\n",
       "</style>\n",
       "<table border=\"1\" class=\"dataframe\">\n",
       "  <thead>\n",
       "    <tr>\n",
       "      <th></th>\n",
       "      <th>month</th>\n",
       "      <th colspan=\"3\" halign=\"left\">amount</th>\n",
       "    </tr>\n",
       "    <tr>\n",
       "      <th></th>\n",
       "      <th></th>\n",
       "      <th>sum</th>\n",
       "      <th>mean</th>\n",
       "      <th>std</th>\n",
       "    </tr>\n",
       "  </thead>\n",
       "  <tbody>\n",
       "    <tr>\n",
       "      <th>0</th>\n",
       "      <td>2020-07-01</td>\n",
       "      <td>371641.0219</td>\n",
       "      <td>37.12326659674358</td>\n",
       "      <td>146.60379521468906</td>\n",
       "    </tr>\n",
       "    <tr>\n",
       "      <th>1</th>\n",
       "      <td>2020-08-01</td>\n",
       "      <td>333581.8439</td>\n",
       "      <td>35.58585917431193</td>\n",
       "      <td>127.5198574929515</td>\n",
       "    </tr>\n",
       "    <tr>\n",
       "      <th>2</th>\n",
       "      <td>2020-09-01</td>\n",
       "      <td>332637.4519</td>\n",
       "      <td>36.449424928774924</td>\n",
       "      <td>123.88285865224766</td>\n",
       "    </tr>\n",
       "    <tr>\n",
       "      <th>3</th>\n",
       "      <td>2020-10-01</td>\n",
       "      <td>353622.203</td>\n",
       "      <td>36.425855274000824</td>\n",
       "      <td>115.90926876917304</td>\n",
       "    </tr>\n",
       "    <tr>\n",
       "      <th>4</th>\n",
       "      <td>2020-11-01</td>\n",
       "      <td>338064.6227</td>\n",
       "      <td>35.11630027007375</td>\n",
       "      <td>115.75082137999814</td>\n",
       "    </tr>\n",
       "    <tr>\n",
       "      <th>5</th>\n",
       "      <td>2020-12-01</td>\n",
       "      <td>336429.3543</td>\n",
       "      <td>35.16193084239131</td>\n",
       "      <td>110.01388394840903</td>\n",
       "    </tr>\n",
       "    <tr>\n",
       "      <th>6</th>\n",
       "      <td>2021-01-01</td>\n",
       "      <td>313162.246</td>\n",
       "      <td>32.7233276907001</td>\n",
       "      <td>97.50136140796654</td>\n",
       "    </tr>\n",
       "    <tr>\n",
       "      <th>7</th>\n",
       "      <td>2021-02-01</td>\n",
       "      <td>304357.25920000003</td>\n",
       "      <td>33.20864803055101</td>\n",
       "      <td>98.2757521762298</td>\n",
       "    </tr>\n",
       "    <tr>\n",
       "      <th>8</th>\n",
       "      <td>2021-03-01</td>\n",
       "      <td>388368.9949</td>\n",
       "      <td>37.275073893847775</td>\n",
       "      <td>115.37599058997601</td>\n",
       "    </tr>\n",
       "    <tr>\n",
       "      <th>9</th>\n",
       "      <td>2021-04-01</td>\n",
       "      <td>394333.3317</td>\n",
       "      <td>36.223895985669664</td>\n",
       "      <td>119.37454590637078</td>\n",
       "    </tr>\n",
       "    <tr>\n",
       "      <th>10</th>\n",
       "      <td>2021-05-01</td>\n",
       "      <td>394022.5127</td>\n",
       "      <td>35.70661646579067</td>\n",
       "      <td>110.7052184270641</td>\n",
       "    </tr>\n",
       "    <tr>\n",
       "      <th>11</th>\n",
       "      <td>2021-06-01</td>\n",
       "      <td>379725.7391</td>\n",
       "      <td>34.351885208974124</td>\n",
       "      <td>109.01085893033544</td>\n",
       "    </tr>\n",
       "    <tr>\n",
       "      <th>12</th>\n",
       "      <td>2021-07-01</td>\n",
       "      <td>359707.5566</td>\n",
       "      <td>34.235039173884076</td>\n",
       "      <td>108.98141819773873</td>\n",
       "    </tr>\n",
       "    <tr>\n",
       "      <th>13</th>\n",
       "      <td>2021-08-01</td>\n",
       "      <td>353716.0517</td>\n",
       "      <td>33.76764216706444</td>\n",
       "      <td>104.27597371862133</td>\n",
       "    </tr>\n",
       "    <tr>\n",
       "      <th>14</th>\n",
       "      <td>2021-09-01</td>\n",
       "      <td>336601.8016</td>\n",
       "      <td>33.54946691916675</td>\n",
       "      <td>105.96105362983822</td>\n",
       "    </tr>\n",
       "    <tr>\n",
       "      <th>15</th>\n",
       "      <td>2021-10-01</td>\n",
       "      <td>336633.1411</td>\n",
       "      <td>32.06335280502905</td>\n",
       "      <td>100.8961633956825</td>\n",
       "    </tr>\n",
       "    <tr>\n",
       "      <th>16</th>\n",
       "      <td>2021-11-01</td>\n",
       "      <td>328259.8705</td>\n",
       "      <td>31.003010058556857</td>\n",
       "      <td>88.87652029126593</td>\n",
       "    </tr>\n",
       "    <tr>\n",
       "      <th>17</th>\n",
       "      <td>2021-12-01</td>\n",
       "      <td>344315.4864</td>\n",
       "      <td>31.26445894851539</td>\n",
       "      <td>82.87591305161153</td>\n",
       "    </tr>\n",
       "    <tr>\n",
       "      <th>18</th>\n",
       "      <td>2022-01-01</td>\n",
       "      <td>334244.81190000003</td>\n",
       "      <td>29.843286776785718</td>\n",
       "      <td>81.39602993090259</td>\n",
       "    </tr>\n",
       "    <tr>\n",
       "      <th>19</th>\n",
       "      <td>2022-02-01</td>\n",
       "      <td>327954.5197</td>\n",
       "      <td>29.386605707885305</td>\n",
       "      <td>77.96246071318303</td>\n",
       "    </tr>\n",
       "    <tr>\n",
       "      <th>20</th>\n",
       "      <td>2022-03-01</td>\n",
       "      <td>404732.8818</td>\n",
       "      <td>33.43794462987442</td>\n",
       "      <td>93.60937311888259</td>\n",
       "    </tr>\n",
       "    <tr>\n",
       "      <th>21</th>\n",
       "      <td>2022-04-01</td>\n",
       "      <td>412571.8274</td>\n",
       "      <td>33.886803071868584</td>\n",
       "      <td>99.26281931084506</td>\n",
       "    </tr>\n",
       "    <tr>\n",
       "      <th>22</th>\n",
       "      <td>2022-05-01</td>\n",
       "      <td>417350.2875</td>\n",
       "      <td>34.7589145914883</td>\n",
       "      <td>95.1066535297913</td>\n",
       "    </tr>\n",
       "    <tr>\n",
       "      <th>23</th>\n",
       "      <td>2022-06-01</td>\n",
       "      <td>363258.3359</td>\n",
       "      <td>36.34036973789516</td>\n",
       "      <td>97.31365965238102</td>\n",
       "    </tr>\n",
       "  </tbody>\n",
       "</table>\n",
       "</div>"
      ],
      "text/plain": [
       "        month             amount                                      \n",
       "                             sum               mean                std\n",
       "0  2020-07-01        371641.0219  37.12326659674358 146.60379521468906\n",
       "1  2020-08-01        333581.8439  35.58585917431193  127.5198574929515\n",
       "2  2020-09-01        332637.4519 36.449424928774924 123.88285865224766\n",
       "3  2020-10-01         353622.203 36.425855274000824 115.90926876917304\n",
       "4  2020-11-01        338064.6227  35.11630027007375 115.75082137999814\n",
       "5  2020-12-01        336429.3543  35.16193084239131 110.01388394840903\n",
       "6  2021-01-01         313162.246   32.7233276907001  97.50136140796654\n",
       "7  2021-02-01 304357.25920000003  33.20864803055101   98.2757521762298\n",
       "8  2021-03-01        388368.9949 37.275073893847775 115.37599058997601\n",
       "9  2021-04-01        394333.3317 36.223895985669664 119.37454590637078\n",
       "10 2021-05-01        394022.5127  35.70661646579067  110.7052184270641\n",
       "11 2021-06-01        379725.7391 34.351885208974124 109.01085893033544\n",
       "12 2021-07-01        359707.5566 34.235039173884076 108.98141819773873\n",
       "13 2021-08-01        353716.0517  33.76764216706444 104.27597371862133\n",
       "14 2021-09-01        336601.8016  33.54946691916675 105.96105362983822\n",
       "15 2021-10-01        336633.1411  32.06335280502905  100.8961633956825\n",
       "16 2021-11-01        328259.8705 31.003010058556857  88.87652029126593\n",
       "17 2021-12-01        344315.4864  31.26445894851539  82.87591305161153\n",
       "18 2022-01-01 334244.81190000003 29.843286776785718  81.39602993090259\n",
       "19 2022-02-01        327954.5197 29.386605707885305  77.96246071318303\n",
       "20 2022-03-01        404732.8818  33.43794462987442  93.60937311888259\n",
       "21 2022-04-01        412571.8274 33.886803071868584  99.26281931084506\n",
       "22 2022-05-01        417350.2875   34.7589145914883   95.1066535297913\n",
       "23 2022-06-01        363258.3359  36.34036973789516  97.31365965238102"
      ]
     },
     "execution_count": 35,
     "metadata": {},
     "output_type": "execute_result"
    }
   ],
   "source": [
    "# Rolling statistics \n",
    "# Looks like mean, std, sum remain constant over the period \n",
    "# We can conclude data is stationary \n",
    "sales.groupby(['month'], as_index=False).agg({'amount':['sum', 'mean','std']})"
   ]
  },
  {
   "cell_type": "markdown",
   "id": "baa333c0",
   "metadata": {},
   "source": [
    "## Test Dataset"
   ]
  },
  {
   "cell_type": "code",
   "execution_count": 36,
   "id": "c488a9af",
   "metadata": {},
   "outputs": [
    {
     "data": {
      "text/html": [
       "<div>\n",
       "<style scoped>\n",
       "    .dataframe tbody tr th:only-of-type {\n",
       "        vertical-align: middle;\n",
       "    }\n",
       "\n",
       "    .dataframe tbody tr th {\n",
       "        vertical-align: top;\n",
       "    }\n",
       "\n",
       "    .dataframe thead th {\n",
       "        text-align: right;\n",
       "    }\n",
       "</style>\n",
       "<table border=\"1\" class=\"dataframe\">\n",
       "  <thead>\n",
       "    <tr style=\"text-align: right;\">\n",
       "      <th></th>\n",
       "      <th>customer_id</th>\n",
       "      <th>month</th>\n",
       "      <th>category</th>\n",
       "      <th>amount</th>\n",
       "      <th>baseline_prediction</th>\n",
       "    </tr>\n",
       "  </thead>\n",
       "  <tbody>\n",
       "    <tr>\n",
       "      <th>0</th>\n",
       "      <td>670546831</td>\n",
       "      <td>202207</td>\n",
       "      <td>ProductC</td>\n",
       "      <td>92.4612</td>\n",
       "      <td>31.701</td>\n",
       "    </tr>\n",
       "    <tr>\n",
       "      <th>1</th>\n",
       "      <td>644085688</td>\n",
       "      <td>202207</td>\n",
       "      <td>ProductA</td>\n",
       "      <td>41.8281</td>\n",
       "      <td>26.418</td>\n",
       "    </tr>\n",
       "    <tr>\n",
       "      <th>2</th>\n",
       "      <td>77457054</td>\n",
       "      <td>202207</td>\n",
       "      <td>ProductE</td>\n",
       "      <td>3.5225</td>\n",
       "      <td>0.6859</td>\n",
       "    </tr>\n",
       "    <tr>\n",
       "      <th>3</th>\n",
       "      <td>32051085</td>\n",
       "      <td>202207</td>\n",
       "      <td>ProductE</td>\n",
       "      <td>0.8806</td>\n",
       "      <td>0.0</td>\n",
       "    </tr>\n",
       "    <tr>\n",
       "      <th>4</th>\n",
       "      <td>1668609463</td>\n",
       "      <td>202207</td>\n",
       "      <td>ProductA</td>\n",
       "      <td>59.44</td>\n",
       "      <td>26.418</td>\n",
       "    </tr>\n",
       "  </tbody>\n",
       "</table>\n",
       "</div>"
      ],
      "text/plain": [
       "   customer_id   month  category  amount  baseline_prediction\n",
       "0    670546831  202207  ProductC 92.4612               31.701\n",
       "1    644085688  202207  ProductA 41.8281               26.418\n",
       "2     77457054  202207  ProductE  3.5225               0.6859\n",
       "3     32051085  202207  ProductE  0.8806                  0.0\n",
       "4   1668609463  202207  ProductA   59.44               26.418"
      ]
     },
     "execution_count": 36,
     "metadata": {},
     "output_type": "execute_result"
    }
   ],
   "source": [
    "test = pd.read_csv('test.csv')\n",
    "test.head()"
   ]
  },
  {
   "cell_type": "code",
   "execution_count": 42,
   "id": "b7696a16",
   "metadata": {},
   "outputs": [
    {
     "data": {
      "text/plain": [
       "(3919, 5)"
      ]
     },
     "execution_count": 42,
     "metadata": {},
     "output_type": "execute_result"
    }
   ],
   "source": [
    "test.shape"
   ]
  },
  {
   "cell_type": "code",
   "execution_count": 43,
   "id": "660464a4",
   "metadata": {},
   "outputs": [
    {
     "data": {
      "text/plain": [
       "customer_id            0\n",
       "month                  0\n",
       "category               0\n",
       "amount                 0\n",
       "baseline_prediction    0\n",
       "dtype: int64"
      ]
     },
     "execution_count": 43,
     "metadata": {},
     "output_type": "execute_result"
    }
   ],
   "source": [
    "test.isna().sum()"
   ]
  },
  {
   "cell_type": "markdown",
   "id": "62e81f59",
   "metadata": {},
   "source": [
    "# Modelling\n",
    "-> Problem Statement\n",
    "1. we have been given data from June 2020 to June 2022 and WE NEED TO PREDICT THE AMOUNT IN JULY 2022. \n",
    "2. We will use time series forcasting model 1. ARIMA, 2. SARIMA, 3. FACEBOOK PROPHET MODEL\n",
    "\n",
    "-> Stratergy\n",
    "1. I will create individual timeseries model for combination of (Customer_id,ProductType) and append result to test dataset\n",
    "\n",
    "-> Assumption about the data\n",
    "1. there are some customer churn as (set(sales.customer_id) - set(sales.customer_id)) == 423\n",
    "2. there are some new customers in test dataset as well (set(sales.customer_id) - set(sales.customer_id)) = 9\n",
    "\n"
   ]
  },
  {
   "cell_type": "markdown",
   "id": "c2a6f102",
   "metadata": {},
   "source": [
    "## Sales Dataset (Prepare the Data)"
   ]
  },
  {
   "cell_type": "code",
   "execution_count": 38,
   "id": "c396c156",
   "metadata": {},
   "outputs": [],
   "source": [
    "# Import the data\n",
    "sales = pd.read_csv(\"sales.csv\")\n",
    "product = pd.read_csv(\"products.csv\")\n",
    "\n",
    "\n",
    "# Merge the data to get the product type\n",
    "sales = pd.merge(sales,product, how='inner')\n",
    "\n",
    "# Convert the 'Date' column to a proper date format\n",
    "sales['month'] = pd.to_datetime(sales['month'], format='%Y%m')\n",
    "\n",
    "#drop the material id\n",
    "sales.drop(['material_id'], axis=1, inplace=True)\n",
    "\n",
    "Sales = sales.groupby(by = ['customer_id', 'category', 'month'], as_index=False).agg({'amount':'sum'})"
   ]
  },
  {
   "cell_type": "markdown",
   "id": "a2df79d6",
   "metadata": {},
   "source": [
    "## ARIMA Model and SARIMA Model"
   ]
  },
  {
   "cell_type": "code",
   "execution_count": 39,
   "id": "f47cea8a",
   "metadata": {},
   "outputs": [
    {
     "data": {
      "text/html": [
       "<div>\n",
       "<style scoped>\n",
       "    .dataframe tbody tr th:only-of-type {\n",
       "        vertical-align: middle;\n",
       "    }\n",
       "\n",
       "    .dataframe tbody tr th {\n",
       "        vertical-align: top;\n",
       "    }\n",
       "\n",
       "    .dataframe thead th {\n",
       "        text-align: right;\n",
       "    }\n",
       "</style>\n",
       "<table border=\"1\" class=\"dataframe\">\n",
       "  <thead>\n",
       "    <tr style=\"text-align: right;\">\n",
       "      <th></th>\n",
       "      <th>customer_id</th>\n",
       "      <th>category</th>\n",
       "      <th>month</th>\n",
       "      <th>Forecast_ARIMA</th>\n",
       "      <th>Forecast_SARIMA</th>\n",
       "    </tr>\n",
       "  </thead>\n",
       "  <tbody>\n",
       "    <tr>\n",
       "      <th>0</th>\n",
       "      <td>670546831</td>\n",
       "      <td>ProductC</td>\n",
       "      <td>202207</td>\n",
       "      <td>56.24281945430218</td>\n",
       "      <td>56.24281945430218</td>\n",
       "    </tr>\n",
       "    <tr>\n",
       "      <th>1</th>\n",
       "      <td>644085688</td>\n",
       "      <td>ProductA</td>\n",
       "      <td>202207</td>\n",
       "      <td>28.300026968879443</td>\n",
       "      <td>28.300026968879443</td>\n",
       "    </tr>\n",
       "    <tr>\n",
       "      <th>2</th>\n",
       "      <td>77457054</td>\n",
       "      <td>ProductE</td>\n",
       "      <td>202207</td>\n",
       "      <td>2.9852516543047405</td>\n",
       "      <td>2.9852516543047405</td>\n",
       "    </tr>\n",
       "    <tr>\n",
       "      <th>3</th>\n",
       "      <td>32051085</td>\n",
       "      <td>ProductE</td>\n",
       "      <td>202207</td>\n",
       "      <td>0.0</td>\n",
       "      <td>0.0</td>\n",
       "    </tr>\n",
       "    <tr>\n",
       "      <th>4</th>\n",
       "      <td>1668609463</td>\n",
       "      <td>ProductA</td>\n",
       "      <td>202207</td>\n",
       "      <td>39.464926151623686</td>\n",
       "      <td>39.464926151623686</td>\n",
       "    </tr>\n",
       "  </tbody>\n",
       "</table>\n",
       "</div>"
      ],
      "text/plain": [
       "   customer_id  category   month     Forecast_ARIMA    Forecast_SARIMA\n",
       "0    670546831  ProductC  202207  56.24281945430218  56.24281945430218\n",
       "1    644085688  ProductA  202207 28.300026968879443 28.300026968879443\n",
       "2     77457054  ProductE  202207 2.9852516543047405 2.9852516543047405\n",
       "3     32051085  ProductE  202207                0.0                0.0\n",
       "4   1668609463  ProductA  202207 39.464926151623686 39.464926151623686"
      ]
     },
     "execution_count": 39,
     "metadata": {},
     "output_type": "execute_result"
    }
   ],
   "source": [
    "from statsmodels.tsa.arima.model import ARIMA\n",
    "from statsmodels.tsa.statespace.sarimax import SARIMAX\n",
    "\n",
    "import warnings\n",
    "from statsmodels.tools.sm_exceptions import ConvergenceWarning\n",
    "\n",
    "# Disable the ConvergenceWarning\n",
    "warnings.simplefilter('ignore', ConvergenceWarning)\n",
    "\n",
    "forecasts = []\n",
    "\n",
    "# Step 3: Extract unique customers and products\n",
    "for customer, product in test[['customer_id', 'category']].values:\n",
    "    \n",
    "    data = Sales[(Sales['customer_id'] == customer) & (Sales['category'] == product)]\n",
    "            \n",
    "    if len(data) <= 2:\n",
    "        forecasts.append({'customer_id': customer, 'category': product, 'month': 202207, 'Forecast_ARIMA': 0, 'Forecast_SARIMA': 0})\n",
    "        continue\n",
    "        \n",
    "    # Step 3: Set the frequency of the time series explicitly\n",
    "    data_ts = data.set_index('month')\n",
    "\n",
    "    # Generate the complete date range from the minimum to maximum date\n",
    "    date_range = pd.date_range(start=data['month'].min(), end=data['month'].max(), freq='MS')\n",
    "\n",
    "    # Reindex the data to include missing months in the date range\n",
    "    data_ts = data_ts.reindex(date_range, fill_value=0)\n",
    "\n",
    "    # Step 4: Fit the ARIMA model\n",
    "    model_ARIMA = ARIMA(data_ts['amount'], order=(1, 1, 1))\n",
    "    model_fit_ARIMA = model_ARIMA.fit(method='statespace', method_kwargs={\"warn_convergence\": False})\n",
    "    \n",
    "    # Step 4: Fit the SARIMA model\n",
    "    model_fit_SARIMA = SARIMAX(data_ts['amount'], order=(1, 1, 1))\n",
    "    model_fit_SARIMA = model_fit_SARIMA.fit(disp=False, method_kwargs={\"warn_convergence\": False})\n",
    "\n",
    "    # Step 5: Forecast for July 2022\n",
    "    forecast_value_ARIMA = model_fit_ARIMA.forecast(steps=1)[0]\n",
    "    \n",
    "    # Step 5: Forecast for July 2022\n",
    "    forecast_value_SARIMA = model_fit_SARIMA.forecast(steps=1)[0]\n",
    "        \n",
    "    #Step6: Store the forecasted result\n",
    "    forecasts.append({'customer_id': customer\n",
    "                      , 'category': product\n",
    "                      , 'month': 202207\n",
    "                      , 'Forecast_ARIMA': forecast_value_ARIMA\n",
    "                      , 'Forecast_SARIMA': forecast_value_SARIMA\n",
    "                     })\n",
    "\n",
    "# Step 6: Create a dataframe with the forecasted results\n",
    "results_df = pd.DataFrame(forecasts)\n",
    "\n",
    "results_df.head()\n"
   ]
  },
  {
   "cell_type": "code",
   "execution_count": 41,
   "id": "63158fd5",
   "metadata": {},
   "outputs": [
    {
     "data": {
      "text/plain": [
       "(3919, 5)"
      ]
     },
     "execution_count": 41,
     "metadata": {},
     "output_type": "execute_result"
    }
   ],
   "source": [
    "results_df.shape"
   ]
  },
  {
   "cell_type": "markdown",
   "id": "9df3b4df",
   "metadata": {},
   "source": [
    "## Facebook Prophet Model "
   ]
  },
  {
   "cell_type": "code",
   "execution_count": 47,
   "id": "ed7ab557",
   "metadata": {},
   "outputs": [
    {
     "data": {
      "text/html": [
       "<div>\n",
       "<style scoped>\n",
       "    .dataframe tbody tr th:only-of-type {\n",
       "        vertical-align: middle;\n",
       "    }\n",
       "\n",
       "    .dataframe tbody tr th {\n",
       "        vertical-align: top;\n",
       "    }\n",
       "\n",
       "    .dataframe thead th {\n",
       "        text-align: right;\n",
       "    }\n",
       "</style>\n",
       "<table border=\"1\" class=\"dataframe\">\n",
       "  <thead>\n",
       "    <tr style=\"text-align: right;\">\n",
       "      <th></th>\n",
       "      <th>customer_id</th>\n",
       "      <th>category</th>\n",
       "      <th>month</th>\n",
       "      <th>Forecast_Prophet</th>\n",
       "    </tr>\n",
       "  </thead>\n",
       "  <tbody>\n",
       "    <tr>\n",
       "      <th>0</th>\n",
       "      <td>670546831</td>\n",
       "      <td>ProductC</td>\n",
       "      <td>202207</td>\n",
       "      <td>163.15731511544655</td>\n",
       "    </tr>\n",
       "    <tr>\n",
       "      <th>1</th>\n",
       "      <td>644085688</td>\n",
       "      <td>ProductA</td>\n",
       "      <td>202207</td>\n",
       "      <td>37.560198040415536</td>\n",
       "    </tr>\n",
       "    <tr>\n",
       "      <th>2</th>\n",
       "      <td>77457054</td>\n",
       "      <td>ProductE</td>\n",
       "      <td>202207</td>\n",
       "      <td>3.5841567026238295</td>\n",
       "    </tr>\n",
       "    <tr>\n",
       "      <th>3</th>\n",
       "      <td>32051085</td>\n",
       "      <td>ProductE</td>\n",
       "      <td>202207</td>\n",
       "      <td>0.0</td>\n",
       "    </tr>\n",
       "    <tr>\n",
       "      <th>4</th>\n",
       "      <td>1668609463</td>\n",
       "      <td>ProductA</td>\n",
       "      <td>202207</td>\n",
       "      <td>57.511126286603</td>\n",
       "    </tr>\n",
       "  </tbody>\n",
       "</table>\n",
       "</div>"
      ],
      "text/plain": [
       "   customer_id  category   month   Forecast_Prophet\n",
       "0    670546831  ProductC  202207 163.15731511544655\n",
       "1    644085688  ProductA  202207 37.560198040415536\n",
       "2     77457054  ProductE  202207 3.5841567026238295\n",
       "3     32051085  ProductE  202207                0.0\n",
       "4   1668609463  ProductA  202207    57.511126286603"
      ]
     },
     "execution_count": 47,
     "metadata": {},
     "output_type": "execute_result"
    }
   ],
   "source": [
    "import pandas as pd\n",
    "import logging\n",
    "from prophet import Prophet\n",
    "\n",
    "import warnings\n",
    "from statsmodels.tools.sm_exceptions import ConvergenceWarning\n",
    "\n",
    "# Set the logging level for cmdstanpy to only display critical-level messages\n",
    "logging.getLogger('cmdstanpy').setLevel(logging.CRITICAL)\n",
    "\n",
    "# Step 3: Extract unique customers and products\n",
    "forecasts = []\n",
    "\n",
    "# Step 3: Extract unique customers and products\n",
    "for customer, product in test[['customer_id', 'category']].values:\n",
    "    \n",
    "    data = Sales[(Sales['customer_id'] == customer) & (Sales['category'] == product)]\n",
    "        \n",
    "    if len(data) <= 2:\n",
    "        forecasts.append({'customer_id': customer, 'category': product, 'month': 202207, 'Forecast_Prophet': 0})\n",
    "        continue\n",
    "\n",
    "    # Step 2: Convert the 'month' column to a proper date format\n",
    "    data = data.rename(columns={'month': 'ds', 'amount': 'y'})\n",
    "\n",
    "    # Step 3: Fit the Prophet model\n",
    "    model = Prophet()\n",
    "    model.fit(data)\n",
    "\n",
    "    # Step 4: Forecast using the Prophet model\n",
    "    future = model.make_future_dataframe(periods=1, freq='MS')\n",
    "    forecast = model.predict(future)\n",
    "\n",
    "    # Step 5: Extract the predicted value for July 2022 (202207)\n",
    "    forecast_value = forecast.loc[forecast['ds'].dt.year == 2022, 'yhat'].values\n",
    "    if len(forecast_value) > 0 and not np.isnan(forecast_value[0]):\n",
    "        forecast_value = forecast_value[0]\n",
    "    else:\n",
    "        forecast_value = np.nan\n",
    "    forecasts.append({'customer_id': customer, 'category': product, 'month': 202207, 'Forecast_Prophet': forecast_value})\n",
    "        \n",
    "\n",
    "# Step 6: Create a dataframe with the forecasted results\n",
    "results_df_Prophet = pd.DataFrame(forecasts)\n",
    "\n",
    "results_df_Prophet.head()\n"
   ]
  },
  {
   "cell_type": "code",
   "execution_count": 48,
   "id": "8b604bf4",
   "metadata": {},
   "outputs": [
    {
     "data": {
      "text/plain": [
       "(3919, 4)"
      ]
     },
     "execution_count": 48,
     "metadata": {},
     "output_type": "execute_result"
    }
   ],
   "source": [
    "results_df_Prophet.shape"
   ]
  },
  {
   "cell_type": "markdown",
   "id": "98a13d07",
   "metadata": {},
   "source": [
    "## Final Result Dataframe"
   ]
  },
  {
   "cell_type": "code",
   "execution_count": 58,
   "id": "aaa8fa01",
   "metadata": {},
   "outputs": [],
   "source": [
    "results_df_TAS_pred = pd.merge(test, results_df\n",
    "                               , how = 'left'\n",
    "                               , on = ['customer_id', 'category'])\n",
    "\n",
    "results_df_TASP_pred = pd.merge(results_df_TAS_pred, results_df_Prophet\n",
    "                                , how = 'left'\n",
    "                                , on = ['customer_id', 'category'])\n",
    "\n",
    "\n",
    "final_df = results_df_TASP_pred[['customer_id', 'month_x', 'category', 'amount', 'baseline_prediction'\n",
    "                                , 'Forecast_ARIMA', 'Forecast_SARIMA', 'Forecast_Prophet']]\n",
    "\n",
    "final_df = final_df.rename(columns={'month_x': 'month'})"
   ]
  },
  {
   "cell_type": "code",
   "execution_count": 59,
   "id": "78f61f2d",
   "metadata": {},
   "outputs": [
    {
     "data": {
      "text/html": [
       "<div>\n",
       "<style scoped>\n",
       "    .dataframe tbody tr th:only-of-type {\n",
       "        vertical-align: middle;\n",
       "    }\n",
       "\n",
       "    .dataframe tbody tr th {\n",
       "        vertical-align: top;\n",
       "    }\n",
       "\n",
       "    .dataframe thead th {\n",
       "        text-align: right;\n",
       "    }\n",
       "</style>\n",
       "<table border=\"1\" class=\"dataframe\">\n",
       "  <thead>\n",
       "    <tr style=\"text-align: right;\">\n",
       "      <th></th>\n",
       "      <th>customer_id</th>\n",
       "      <th>month</th>\n",
       "      <th>category</th>\n",
       "      <th>amount</th>\n",
       "      <th>baseline_prediction</th>\n",
       "      <th>Forecast_ARIMA</th>\n",
       "      <th>Forecast_SARIMA</th>\n",
       "      <th>Forecast_Prophet</th>\n",
       "    </tr>\n",
       "  </thead>\n",
       "  <tbody>\n",
       "    <tr>\n",
       "      <th>0</th>\n",
       "      <td>670546831</td>\n",
       "      <td>202207</td>\n",
       "      <td>ProductC</td>\n",
       "      <td>92.4612</td>\n",
       "      <td>31.701</td>\n",
       "      <td>56.24281945430218</td>\n",
       "      <td>56.24281945430218</td>\n",
       "      <td>163.15731511544655</td>\n",
       "    </tr>\n",
       "    <tr>\n",
       "      <th>1</th>\n",
       "      <td>644085688</td>\n",
       "      <td>202207</td>\n",
       "      <td>ProductA</td>\n",
       "      <td>41.8281</td>\n",
       "      <td>26.418</td>\n",
       "      <td>28.300026968879443</td>\n",
       "      <td>28.300026968879443</td>\n",
       "      <td>37.560198040415536</td>\n",
       "    </tr>\n",
       "    <tr>\n",
       "      <th>2</th>\n",
       "      <td>77457054</td>\n",
       "      <td>202207</td>\n",
       "      <td>ProductE</td>\n",
       "      <td>3.5225</td>\n",
       "      <td>0.6859</td>\n",
       "      <td>2.9852516543047405</td>\n",
       "      <td>2.9852516543047405</td>\n",
       "      <td>3.5841567026238295</td>\n",
       "    </tr>\n",
       "    <tr>\n",
       "      <th>3</th>\n",
       "      <td>32051085</td>\n",
       "      <td>202207</td>\n",
       "      <td>ProductE</td>\n",
       "      <td>0.8806</td>\n",
       "      <td>0.0</td>\n",
       "      <td>0.0</td>\n",
       "      <td>0.0</td>\n",
       "      <td>0.0</td>\n",
       "    </tr>\n",
       "    <tr>\n",
       "      <th>4</th>\n",
       "      <td>1668609463</td>\n",
       "      <td>202207</td>\n",
       "      <td>ProductA</td>\n",
       "      <td>59.44</td>\n",
       "      <td>26.418</td>\n",
       "      <td>39.464926151623686</td>\n",
       "      <td>39.464926151623686</td>\n",
       "      <td>57.511126286603</td>\n",
       "    </tr>\n",
       "  </tbody>\n",
       "</table>\n",
       "</div>"
      ],
      "text/plain": [
       "   customer_id   month  category  amount  baseline_prediction  \\\n",
       "0    670546831  202207  ProductC 92.4612               31.701   \n",
       "1    644085688  202207  ProductA 41.8281               26.418   \n",
       "2     77457054  202207  ProductE  3.5225               0.6859   \n",
       "3     32051085  202207  ProductE  0.8806                  0.0   \n",
       "4   1668609463  202207  ProductA   59.44               26.418   \n",
       "\n",
       "      Forecast_ARIMA    Forecast_SARIMA   Forecast_Prophet  \n",
       "0  56.24281945430218  56.24281945430218 163.15731511544655  \n",
       "1 28.300026968879443 28.300026968879443 37.560198040415536  \n",
       "2 2.9852516543047405 2.9852516543047405 3.5841567026238295  \n",
       "3                0.0                0.0                0.0  \n",
       "4 39.464926151623686 39.464926151623686    57.511126286603  "
      ]
     },
     "execution_count": 59,
     "metadata": {},
     "output_type": "execute_result"
    }
   ],
   "source": [
    "final_df.head()"
   ]
  },
  {
   "cell_type": "code",
   "execution_count": 61,
   "id": "90894362",
   "metadata": {},
   "outputs": [
    {
     "data": {
      "text/plain": [
       "customer_id             0\n",
       "month                   0\n",
       "category                0\n",
       "amount                  0\n",
       "baseline_prediction     0\n",
       "Forecast_ARIMA          0\n",
       "Forecast_SARIMA         0\n",
       "Forecast_Prophet       36\n",
       "dtype: int64"
      ]
     },
     "execution_count": 61,
     "metadata": {},
     "output_type": "execute_result"
    }
   ],
   "source": [
    "final_df.isna().sum()"
   ]
  },
  {
   "cell_type": "code",
   "execution_count": 62,
   "id": "711d09ab",
   "metadata": {},
   "outputs": [],
   "source": [
    "final_df.fillna(0, inplace=True)"
   ]
  },
  {
   "cell_type": "markdown",
   "id": "32eb260e",
   "metadata": {},
   "source": [
    "## Evaluation"
   ]
  },
  {
   "cell_type": "code",
   "execution_count": 70,
   "id": "92cebf74",
   "metadata": {},
   "outputs": [
    {
     "data": {
      "text/plain": [
       "(27.796358127073233,\n",
       " 30.035367788016806,\n",
       " 30.035367788016806,\n",
       " 31.738273385386446)"
      ]
     },
     "execution_count": 70,
     "metadata": {},
     "output_type": "execute_result"
    }
   ],
   "source": [
    "## Mean Absolute Error\n",
    "#  It measures the average absolute difference between the actual and predicted values. \n",
    "# Lower values indicate better performance.\n",
    "\n",
    "from sklearn.metrics import mean_absolute_error\n",
    "\n",
    "# Calculate MAE for ARIMA\n",
    "base_mae_arima = mean_absolute_error(final_df['amount'], final_df['baseline_prediction'])\n",
    "\n",
    "# Calculate MAE for ARIMA\n",
    "mae_arima = mean_absolute_error(final_df['amount'], final_df['Forecast_ARIMA'])\n",
    "\n",
    "# Calculate MAE for SARIMA\n",
    "mae_sarima = mean_absolute_error(final_df['amount'], final_df['Forecast_SARIMA'])\n",
    "\n",
    "# Calculate MAE for Prophet\n",
    "mae_prophet = mean_absolute_error(final_df['amount'], final_df['Forecast_Prophet'])\n",
    "\n",
    "(base_mae_arima, mae_arima, mae_sarima, mae_prophet)"
   ]
  },
  {
   "cell_type": "code",
   "execution_count": 71,
   "id": "0f0767e8",
   "metadata": {},
   "outputs": [
    {
     "data": {
      "text/plain": [
       "(5202.96190497078, 3866.6578459570296, 3866.6578459570296, 4485.82218268211)"
      ]
     },
     "execution_count": 71,
     "metadata": {},
     "output_type": "execute_result"
    }
   ],
   "source": [
    "# Mean Squared Error (MSE)\n",
    "# It measures the average squared difference between the actual and predicted values. \n",
    "#Lower values indicate better performance.\n",
    "\n",
    "from sklearn.metrics import mean_squared_error\n",
    "\n",
    "# Calculate MSE for ARIMA\n",
    "base_mse_arima = mean_squared_error(final_df['amount'], final_df['baseline_prediction'])\n",
    "\n",
    "# Calculate MSE for ARIMA\n",
    "mse_arima = mean_squared_error(final_df['amount'], final_df['Forecast_ARIMA'])\n",
    "\n",
    "# Calculate MSE for SARIMA\n",
    "mse_sarima = mean_squared_error(final_df['amount'], final_df['Forecast_SARIMA'])\n",
    "\n",
    "# Calculate MSE for Prophet\n",
    "mse_prophet = mean_squared_error(final_df['amount'], final_df['Forecast_Prophet'])\n",
    "\n",
    "(base_mse_arima, mse_arima, mse_sarima, mse_prophet)"
   ]
  },
  {
   "cell_type": "code",
   "execution_count": 72,
   "id": "b9b5c9d7",
   "metadata": {},
   "outputs": [
    {
     "data": {
      "text/plain": [
       "(72.13155970149806, 62.18245609460139, 62.18245609460139, 66.97628074685926)"
      ]
     },
     "execution_count": 72,
     "metadata": {},
     "output_type": "execute_result"
    }
   ],
   "source": [
    "# Root Mean Squared Error (RMSE)\n",
    "# It is the square root of MSE and provides an interpretable metric in the same unit as the target variable.\n",
    "\n",
    "import numpy as np\n",
    "\n",
    "# Calculate RMSE for ARIMA\n",
    "base_rmse_arima = np.sqrt(base_mse_arima)\n",
    "\n",
    "# Calculate RMSE for ARIMA\n",
    "rmse_arima = np.sqrt(mse_arima)\n",
    "\n",
    "# Calculate RMSE for SARIMA\n",
    "rmse_sarima = np.sqrt(mse_sarima)\n",
    "\n",
    "# Calculate RMSE for Prophet\n",
    "rmse_prophet = np.sqrt(mse_prophet)\n",
    "\n",
    "(base_rmse_arima, rmse_arima, rmse_sarima, rmse_prophet)"
   ]
  },
  {
   "cell_type": "code",
   "execution_count": 74,
   "id": "cafbe4a4",
   "metadata": {},
   "outputs": [
    {
     "data": {
      "text/plain": [
       "(0.903467643511731, 0.9282605561175673, 0.9282605561175673, 0.9167729854666145)"
      ]
     },
     "execution_count": 74,
     "metadata": {},
     "output_type": "execute_result"
    }
   ],
   "source": [
    "from sklearn.metrics import r2_score\n",
    "\n",
    "# Calculate R2 for ARIMA\n",
    "base_r2_arima = r2_score(final_df['amount'], final_df['baseline_prediction'])\n",
    "\n",
    "# Calculate R2 for ARIMA\n",
    "r2_arima = r2_score(final_df['amount'], final_df['Forecast_ARIMA'])\n",
    "\n",
    "# Calculate R2 for SARIMA\n",
    "r2_sarima = r2_score(final_df['amount'], final_df['Forecast_SARIMA'])\n",
    "\n",
    "# Calculate R2 for Prophet\n",
    "r2_prophet = r2_score(final_df['amount'], final_df['Forecast_Prophet'])\n",
    "\n",
    "(base_r2_arima, r2_arima, r2_sarima, r2_prophet)"
   ]
  },
  {
   "cell_type": "code",
   "execution_count": 75,
   "id": "1799bb11",
   "metadata": {},
   "outputs": [
    {
     "data": {
      "text/plain": [
       "(0.9517338217558655,\n",
       " 0.9641302780587837,\n",
       " 0.9641302780587837,\n",
       " 0.9583864927333072)"
      ]
     },
     "execution_count": 75,
     "metadata": {},
     "output_type": "execute_result"
    }
   ],
   "source": [
    "n = len(data)  # Number of samples\n",
    "p = 1  # Number of predictors (assuming 1 predictor for simplicity)\n",
    "\n",
    "# Calculate Adjusted R2 for ARIMA\n",
    "base_adj_r2_arima = 1 - (1 - base_r2_arima) * (n - 1) / (n - p - 1)\n",
    "\n",
    "# Calculate Adjusted R2 for ARIMA\n",
    "adj_r2_arima = 1 - (1 - r2_arima) * (n - 1) / (n - p - 1)\n",
    "\n",
    "# Calculate Adjusted R2 for SARIMA\n",
    "adj_r2_sarima = 1 - (1 - r2_sarima) * (n - 1) / (n - p - 1)\n",
    "\n",
    "# Calculate Adjusted R2 for Prophet\n",
    "adj_r2_prophet = 1 - (1 - r2_prophet) * (n - 1) / (n - p - 1)\n",
    "\n",
    "(base_adj_r2_arima, adj_r2_arima, adj_r2_sarima, adj_r2_prophet)"
   ]
  },
  {
   "cell_type": "markdown",
   "id": "e014a4e4",
   "metadata": {},
   "source": [
    "## Best Model Conclusion"
   ]
  },
  {
   "cell_type": "markdown",
   "id": "cb809e0d",
   "metadata": {},
   "source": [
    "Our best Model based on above evaluation is SARIMA Prophet. "
   ]
  },
  {
   "cell_type": "code",
   "execution_count": 76,
   "id": "886e9814",
   "metadata": {},
   "outputs": [
    {
     "data": {
      "image/png": "[encoded data removed]",
      "text/plain": [
       "<Figure size 1200x600 with 1 Axes>"
      ]
     },
     "metadata": {},
     "output_type": "display_data"
    }
   ],
   "source": [
    "# plot the actual and predicted values from each model on the same graph\n",
    "import matplotlib.pyplot as plt\n",
    "\n",
    "# Plot actual and predicted values\n",
    "plt.figure(figsize=(12, 6))\n",
    "plt.plot(final_df['amount'], label='Actual')\n",
    "plt.plot(final_df['Forecast_ARIMA'], label='ARIMA')\n",
    "# plt.plot(final_df['Forecast_SARIMA'], label='SARIMA')\n",
    "# plt.plot(final_df['Forecast_Prophet'], label='Prophet')\n",
    "plt.xlabel('Time')\n",
    "plt.ylabel('Amount')\n",
    "plt.legend()\n",
    "plt.title('Actual vs. Predicted')\n",
    "plt.show()"
   ]
  },
  {
   "cell_type": "markdown",
   "id": "d2de7fe2",
   "metadata": {},
   "source": [
    "## Submission CSV"
   ]
  },
  {
   "cell_type": "code",
   "execution_count": 77,
   "id": "4361f947",
   "metadata": {},
   "outputs": [
    {
     "data": {
      "text/html": [
       "<div>\n",
       "<style scoped>\n",
       "    .dataframe tbody tr th:only-of-type {\n",
       "        vertical-align: middle;\n",
       "    }\n",
       "\n",
       "    .dataframe tbody tr th {\n",
       "        vertical-align: top;\n",
       "    }\n",
       "\n",
       "    .dataframe thead th {\n",
       "        text-align: right;\n",
       "    }\n",
       "</style>\n",
       "<table border=\"1\" class=\"dataframe\">\n",
       "  <thead>\n",
       "    <tr style=\"text-align: right;\">\n",
       "      <th></th>\n",
       "      <th>customer_id</th>\n",
       "      <th>month</th>\n",
       "      <th>category</th>\n",
       "      <th>amount</th>\n",
       "      <th>baseline_prediction</th>\n",
       "      <th>Forecast_ARIMA</th>\n",
       "      <th>Forecast_SARIMA</th>\n",
       "      <th>Forecast_Prophet</th>\n",
       "    </tr>\n",
       "  </thead>\n",
       "  <tbody>\n",
       "    <tr>\n",
       "      <th>0</th>\n",
       "      <td>670546831</td>\n",
       "      <td>202207</td>\n",
       "      <td>ProductC</td>\n",
       "      <td>92.4612</td>\n",
       "      <td>31.701</td>\n",
       "      <td>56.24281945430218</td>\n",
       "      <td>56.24281945430218</td>\n",
       "      <td>163.15731511544655</td>\n",
       "    </tr>\n",
       "    <tr>\n",
       "      <th>1</th>\n",
       "      <td>644085688</td>\n",
       "      <td>202207</td>\n",
       "      <td>ProductA</td>\n",
       "      <td>41.8281</td>\n",
       "      <td>26.418</td>\n",
       "      <td>28.300026968879443</td>\n",
       "      <td>28.300026968879443</td>\n",
       "      <td>37.560198040415536</td>\n",
       "    </tr>\n",
       "    <tr>\n",
       "      <th>2</th>\n",
       "      <td>77457054</td>\n",
       "      <td>202207</td>\n",
       "      <td>ProductE</td>\n",
       "      <td>3.5225</td>\n",
       "      <td>0.6859</td>\n",
       "      <td>2.9852516543047405</td>\n",
       "      <td>2.9852516543047405</td>\n",
       "      <td>3.5841567026238295</td>\n",
       "    </tr>\n",
       "    <tr>\n",
       "      <th>3</th>\n",
       "      <td>32051085</td>\n",
       "      <td>202207</td>\n",
       "      <td>ProductE</td>\n",
       "      <td>0.8806</td>\n",
       "      <td>0.0</td>\n",
       "      <td>0.0</td>\n",
       "      <td>0.0</td>\n",
       "      <td>0.0</td>\n",
       "    </tr>\n",
       "    <tr>\n",
       "      <th>4</th>\n",
       "      <td>1668609463</td>\n",
       "      <td>202207</td>\n",
       "      <td>ProductA</td>\n",
       "      <td>59.44</td>\n",
       "      <td>26.418</td>\n",
       "      <td>39.464926151623686</td>\n",
       "      <td>39.464926151623686</td>\n",
       "      <td>57.511126286603</td>\n",
       "    </tr>\n",
       "  </tbody>\n",
       "</table>\n",
       "</div>"
      ],
      "text/plain": [
       "   customer_id   month  category  amount  baseline_prediction  \\\n",
       "0    670546831  202207  ProductC 92.4612               31.701   \n",
       "1    644085688  202207  ProductA 41.8281               26.418   \n",
       "2     77457054  202207  ProductE  3.5225               0.6859   \n",
       "3     32051085  202207  ProductE  0.8806                  0.0   \n",
       "4   1668609463  202207  ProductA   59.44               26.418   \n",
       "\n",
       "      Forecast_ARIMA    Forecast_SARIMA   Forecast_Prophet  \n",
       "0  56.24281945430218  56.24281945430218 163.15731511544655  \n",
       "1 28.300026968879443 28.300026968879443 37.560198040415536  \n",
       "2 2.9852516543047405 2.9852516543047405 3.5841567026238295  \n",
       "3                0.0                0.0                0.0  \n",
       "4 39.464926151623686 39.464926151623686    57.511126286603  "
      ]
     },
     "execution_count": 77,
     "metadata": {},
     "output_type": "execute_result"
    }
   ],
   "source": [
    "final_df.head()"
   ]
  },
  {
   "cell_type": "code",
   "execution_count": 78,
   "id": "6d1d23cd",
   "metadata": {},
   "outputs": [],
   "source": [
    "final_df.to_csv(\"prediction.csv\")"
   ]
  },
  {
   "cell_type": "code",
   "execution_count": null,
   "id": "fb67b8fa",
   "metadata": {},
   "outputs": [],
   "source": []
  }
 ],
 "metadata": {
  "kernelspec": {
   "display_name": "Python 3 (ipykernel)",
   "language": "python",
   "name": "python3"
  },
  "language_info": {
   "codemirror_mode": {
    "name": "ipython",
    "version": 3
   },
   "file_extension": ".py",
   "mimetype": "text/x-python",
   "name": "python",
   "nbconvert_exporter": "python",
   "pygments_lexer": "ipython3",
   "version": "3.7.6"
  }
 },
 "nbformat": 4,
 "nbformat_minor": 5
}
